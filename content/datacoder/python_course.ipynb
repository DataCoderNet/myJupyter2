{
 "cells": [
  {
   "cell_type": "markdown",
   "metadata": {},
   "source": [
    "# 1.- Python Basics"
   ]
  },
  {
   "cell_type": "markdown",
   "metadata": {},
   "source": [
    "##  Data Types\n",
    "\n",
    "* Numbers (Integers and Floats)\n",
    "* Strings \n",
    "* Boolean (True or False)\n",
    "* Commplex Data Types (Lists, Dictionaries, Objects) "
   ]
  },
  {
   "cell_type": "markdown",
   "metadata": {},
   "source": [
    "## Working with numbers"
   ]
  },
  {
   "cell_type": "code",
   "execution_count": 3,
   "metadata": {},
   "outputs": [
    {
     "data": {
      "text/plain": [
       "1"
      ]
     },
     "execution_count": 3,
     "metadata": {},
     "output_type": "execute_result"
    }
   ],
   "source": [
    "# Convert text to integers and numbers\n",
    "\n",
    "a = int('1')\n",
    "a"
   ]
  },
  {
   "cell_type": "code",
   "execution_count": 4,
   "metadata": {},
   "outputs": [
    {
     "data": {
      "text/plain": [
       "1.0"
      ]
     },
     "execution_count": 4,
     "metadata": {},
     "output_type": "execute_result"
    }
   ],
   "source": [
    "# Convert text to float\n",
    "\n",
    "b = float('1')\n",
    "b"
   ]
  },
  {
   "cell_type": "code",
   "execution_count": 5,
   "metadata": {},
   "outputs": [
    {
     "name": "stdout",
     "output_type": "stream",
     "text": [
      "3\n"
     ]
    }
   ],
   "source": [
    "# return the floor\n",
    "print (11//3)"
   ]
  },
  {
   "cell_type": "markdown",
   "metadata": {},
   "source": [
    "## Working with Strings"
   ]
  },
  {
   "cell_type": "code",
   "execution_count": 6,
   "metadata": {},
   "outputs": [
    {
     "data": {
      "text/plain": [
       "'Some text to append 1.5'"
      ]
     },
     "execution_count": 6,
     "metadata": {},
     "output_type": "execute_result"
    }
   ],
   "source": [
    "#Converts number to string\n",
    "\n",
    "var1 = 1.5\n",
    "var2 = \"Some text to append\"\n",
    "\n",
    "result = var2 + \" \" + str(var1)\n",
    "result"
   ]
  },
  {
   "cell_type": "code",
   "execution_count": 7,
   "metadata": {},
   "outputs": [
    {
     "data": {
      "text/plain": [
       "'Hector Sanchez'"
      ]
     },
     "execution_count": 7,
     "metadata": {},
     "output_type": "execute_result"
    }
   ],
   "source": [
    "name = 'Hector'\n",
    "lastname = 'Sanchez'\n",
    "\n",
    "name + ' '+ lastname"
   ]
  },
  {
   "cell_type": "code",
   "execution_count": 8,
   "metadata": {},
   "outputs": [
    {
     "data": {
      "text/plain": [
       "\"Hello I'm pretty cool\""
      ]
     },
     "execution_count": 8,
     "metadata": {},
     "output_type": "execute_result"
    }
   ],
   "source": [
    "myText = \"Hello I'm pretty cool\"\n",
    "myText"
   ]
  },
  {
   "cell_type": "code",
   "execution_count": 9,
   "metadata": {},
   "outputs": [
    {
     "data": {
      "text/plain": [
       "'you can add your text \\nin multiple lines'"
      ]
     },
     "execution_count": 9,
     "metadata": {},
     "output_type": "execute_result"
    }
   ],
   "source": [
    "longer_text = \"\"\"you can add your text \n",
    "in multiple lines\"\"\"\n",
    "longer_text"
   ]
  },
  {
   "cell_type": "code",
   "execution_count": 10,
   "metadata": {},
   "outputs": [
    {
     "data": {
      "text/plain": [
       "'**************************************************'"
      ]
     },
     "execution_count": 10,
     "metadata": {},
     "output_type": "execute_result"
    }
   ],
   "source": [
    "my_string = \"*\"\n",
    "my_string *50"
   ]
  },
  {
   "cell_type": "code",
   "execution_count": 11,
   "metadata": {},
   "outputs": [
    {
     "data": {
      "text/plain": [
       "'Hola-Micho-Barrigas'"
      ]
     },
     "execution_count": 11,
     "metadata": {},
     "output_type": "execute_result"
    }
   ],
   "source": [
    "# string.join(iterable)\n",
    "\n",
    "myList = [\"Hola\", \"Micho\", \"Barrigas\"]\n",
    "x = \"-\".join(myList)\n",
    "x"
   ]
  },
  {
   "cell_type": "code",
   "execution_count": 12,
   "metadata": {},
   "outputs": [
    {
     "name": "stdout",
     "output_type": "stream",
     "text": [
      "h\n",
      "e\n",
      "l\n",
      "l\n",
      "o\n"
     ]
    }
   ],
   "source": [
    "my_text = 'hello'\n",
    "for i in my_text:\n",
    "    print(i)"
   ]
  },
  {
   "cell_type": "markdown",
   "metadata": {},
   "source": [
    "### Format Method"
   ]
  },
  {
   "cell_type": "code",
   "execution_count": 13,
   "metadata": {},
   "outputs": [
    {
     "data": {
      "text/plain": [
       "('I am Max and I am 29',\n",
       " 'I am Max and I am 29.00',\n",
       " 'I am Max and I am 29',\n",
       " 'I am Max and I am 29',\n",
       " 'I am Max and I am 29',\n",
       " 'My balance is 151.0')"
      ]
     },
     "execution_count": 13,
     "metadata": {},
     "output_type": "execute_result"
    }
   ],
   "source": [
    "name = 'Max'\n",
    "age = 29\n",
    "funds = 150.9723\n",
    "\n",
    "(\n",
    "f\"I am {name} and I am {age}\", \n",
    "f\"I am {name} and I am {age:.2f}\", \n",
    "\"I am {} and I am {}\".format(name, age), \n",
    "\"I am {0} and I am {1}\".format(name, age), \n",
    "\"I am {myname} and I am {myage}\".format(myname=name, myage=age),\n",
    "\"My balance is {:>.1f}\".format(funds)\n",
    ")\n"
   ]
  },
  {
   "cell_type": "markdown",
   "metadata": {},
   "source": [
    "### Escaping Characters"
   ]
  },
  {
   "cell_type": "code",
   "execution_count": 14,
   "metadata": {},
   "outputs": [
    {
     "data": {
      "text/plain": [
       "\"I'm Max\""
      ]
     },
     "execution_count": 14,
     "metadata": {},
     "output_type": "execute_result"
    }
   ],
   "source": [
    "'I\\'m Max'"
   ]
  },
  {
   "cell_type": "markdown",
   "metadata": {},
   "source": [
    "## Working with Lists\n",
    "* Created with [    ] brackets\n",
    "* The index of a list is zero based\n",
    " "
   ]
  },
  {
   "cell_type": "code",
   "execution_count": 15,
   "metadata": {},
   "outputs": [
    {
     "data": {
      "text/plain": [
       "[1, 8.6, 5.1]"
      ]
     },
     "execution_count": 15,
     "metadata": {},
     "output_type": "execute_result"
    }
   ],
   "source": [
    "blockchain = [1, 8.6, 5.1]\n",
    "blockchain"
   ]
  },
  {
   "cell_type": "code",
   "execution_count": 16,
   "metadata": {},
   "outputs": [
    {
     "data": {
      "text/plain": [
       "8.6"
      ]
     },
     "execution_count": 16,
     "metadata": {},
     "output_type": "execute_result"
    }
   ],
   "source": [
    "blockchain[1]"
   ]
  },
  {
   "cell_type": "code",
   "execution_count": 17,
   "metadata": {},
   "outputs": [
    {
     "data": {
      "text/plain": [
       "[1, 2, 5.1]"
      ]
     },
     "execution_count": 17,
     "metadata": {},
     "output_type": "execute_result"
    }
   ],
   "source": [
    "blockchain[1] = 2\n",
    "blockchain"
   ]
  },
  {
   "cell_type": "markdown",
   "metadata": {},
   "source": [
    "### Adding or removing items from lists"
   ]
  },
  {
   "cell_type": "code",
   "execution_count": 18,
   "metadata": {},
   "outputs": [
    {
     "data": {
      "text/plain": [
       "[1, 2, 5.1, 3]"
      ]
     },
     "execution_count": 18,
     "metadata": {},
     "output_type": "execute_result"
    }
   ],
   "source": [
    "# Add item to a list\n",
    "blockchain.append(3)\n",
    "blockchain"
   ]
  },
  {
   "cell_type": "code",
   "execution_count": 19,
   "metadata": {},
   "outputs": [
    {
     "data": {
      "text/plain": [
       "[1, 2, 5.1]"
      ]
     },
     "execution_count": 19,
     "metadata": {},
     "output_type": "execute_result"
    }
   ],
   "source": [
    "# Remove Item from a list\n",
    "blockchain.pop()\n",
    "blockchain"
   ]
  },
  {
   "cell_type": "markdown",
   "metadata": {},
   "source": [
    "## Working with Functions\n",
    "Functions use indentations"
   ]
  },
  {
   "cell_type": "code",
   "execution_count": 20,
   "metadata": {},
   "outputs": [
    {
     "name": "stdout",
     "output_type": "stream",
     "text": [
      "Hello World\n"
     ]
    }
   ],
   "source": [
    "def greet():\n",
    "    print(\"Hello World\")\n",
    "\n",
    "greet()"
   ]
  },
  {
   "cell_type": "code",
   "execution_count": 21,
   "metadata": {},
   "outputs": [
    {
     "name": "stdout",
     "output_type": "stream",
     "text": [
      "3\n"
     ]
    }
   ],
   "source": [
    "def my_sum(a,b):\n",
    "    return a+b\n",
    "\n",
    "print(my_sum(1,2))"
   ]
  },
  {
   "cell_type": "code",
   "execution_count": 22,
   "metadata": {},
   "outputs": [
    {
     "name": "stdout",
     "output_type": "stream",
     "text": [
      "Hello my name is Hector and my age is 49\n"
     ]
    }
   ],
   "source": [
    "def greet(name, age):\n",
    "    print (\"Hello my name is \"+name+\" and my age is \"+ str(age))\n",
    "\n",
    "greet(age=49, name='Hector')"
   ]
  },
  {
   "cell_type": "code",
   "execution_count": 23,
   "metadata": {},
   "outputs": [],
   "source": [
    "def test_function():\n",
    "    if 5 > 1:\n",
    "        return None\n",
    "test_function()"
   ]
  },
  {
   "cell_type": "markdown",
   "metadata": {},
   "source": [
    "## Loops\n",
    "* For (To Iterate through elements of an iterable)\n",
    "* While (Allows to repeat code as long as the condition is True)\n",
    "* Special Commands for Loops: \n",
    "    * break \n",
    "    * continue \n",
    "    * pass"
   ]
  },
  {
   "cell_type": "code",
   "execution_count": 24,
   "metadata": {},
   "outputs": [
    {
     "name": "stdout",
     "output_type": "stream",
     "text": [
      "1\n",
      "2\n",
      "3\n",
      "hola\n"
     ]
    }
   ],
   "source": [
    "a = [1,2,3, \"hola\"]\n",
    "for i in a:\n",
    "    print (i)"
   ]
  },
  {
   "cell_type": "code",
   "execution_count": 25,
   "metadata": {},
   "outputs": [
    {
     "name": "stdout",
     "output_type": "stream",
     "text": [
      "5\n",
      "4\n",
      "3\n",
      "2\n"
     ]
    }
   ],
   "source": [
    "b = 5\n",
    "while b != 0:\n",
    "    print (b)\n",
    "    if b == 2:\n",
    "        break\n",
    "    b = b -1"
   ]
  },
  {
   "cell_type": "code",
   "execution_count": 26,
   "metadata": {},
   "outputs": [
    {
     "name": "stdout",
     "output_type": "stream",
     "text": [
      "0\n",
      "1\n",
      "2\n",
      "3\n",
      "4\n"
     ]
    }
   ],
   "source": [
    "for i in range(5):\n",
    "    print(i)"
   ]
  },
  {
   "cell_type": "code",
   "execution_count": 27,
   "metadata": {},
   "outputs": [
    {
     "name": "stdout",
     "output_type": "stream",
     "text": [
      "5\n",
      "7\n",
      "9\n",
      "11\n",
      "13\n",
      "15\n",
      "17\n",
      "19\n"
     ]
    }
   ],
   "source": [
    "for i in range(5,20,2):\n",
    "    print(i)"
   ]
  },
  {
   "cell_type": "markdown",
   "metadata": {},
   "source": [
    "## IF - ELSE\n"
   ]
  },
  {
   "cell_type": "code",
   "execution_count": 28,
   "metadata": {},
   "outputs": [
    {
     "name": "stdout",
     "output_type": "stream",
     "text": [
      "a is less than b\n"
     ]
    }
   ],
   "source": [
    "a = 5\n",
    "b = 10\n",
    "\n",
    "if a < 10:\n",
    "    print('a is less than b')\n",
    "else:\n",
    "    print ('a is bigger than b')"
   ]
  },
  {
   "cell_type": "code",
   "execution_count": 29,
   "metadata": {},
   "outputs": [
    {
     "name": "stdout",
     "output_type": "stream",
     "text": [
      "Data is in the list\n"
     ]
    }
   ],
   "source": [
    "data = [1,2,3,4,5]\n",
    "\n",
    "a=1\n",
    "\n",
    "if a in data:\n",
    "    print(\"Data is in the list\")"
   ]
  },
  {
   "cell_type": "code",
   "execution_count": 30,
   "metadata": {},
   "outputs": [
    {
     "data": {
      "text/plain": [
       "False"
      ]
     },
     "execution_count": 30,
     "metadata": {},
     "output_type": "execute_result"
    }
   ],
   "source": [
    "data = [1, 1.5, 3.4]\n",
    "test_data = [1, 1.5, 3.4]\n",
    "\n",
    "data is test_data"
   ]
  },
  {
   "cell_type": "code",
   "execution_count": 31,
   "metadata": {},
   "outputs": [
    {
     "data": {
      "text/plain": [
       "True"
      ]
     },
     "execution_count": 31,
     "metadata": {},
     "output_type": "execute_result"
    }
   ],
   "source": [
    "2 not in data"
   ]
  },
  {
   "cell_type": "code",
   "execution_count": 32,
   "metadata": {},
   "outputs": [
    {
     "data": {
      "text/plain": [
       "True"
      ]
     },
     "execution_count": 32,
     "metadata": {},
     "output_type": "execute_result"
    }
   ],
   "source": [
    "data is not test_data"
   ]
  },
  {
   "cell_type": "code",
   "execution_count": 33,
   "metadata": {},
   "outputs": [
    {
     "name": "stdout",
     "output_type": "stream",
     "text": [
      "Between 20 and 60\n"
     ]
    }
   ],
   "source": [
    "age = 49\n",
    "\n",
    "if age > 20 and age < 60:\n",
    "    print (\"Between 20 and 60\")\n"
   ]
  },
  {
   "cell_type": "code",
   "execution_count": 34,
   "metadata": {},
   "outputs": [
    {
     "name": "stdout",
     "output_type": "stream",
     "text": [
      "Not between 50 and 60\n"
     ]
    }
   ],
   "source": [
    "if age < 50 or age > 60:\n",
    "    print ('Not between 50 and 60')"
   ]
  },
  {
   "cell_type": "markdown",
   "metadata": {},
   "source": [
    "# 2.- Complex Data Structures"
   ]
  },
  {
   "cell_type": "markdown",
   "metadata": {},
   "source": [
    "## List\n",
    "Mutable, ordered list, accepts duplicates, any type of data"
   ]
  },
  {
   "cell_type": "code",
   "execution_count": 5,
   "metadata": {},
   "outputs": [
    {
     "data": {
      "text/plain": [
       "['Milk', 'Honey', 'Milk', 10, True]"
      ]
     },
     "execution_count": 5,
     "metadata": {},
     "output_type": "execute_result"
    }
   ],
   "source": [
    "my_list = [\"Milk\", \"Honey\", \"Milk\", 10, True]\n",
    "my_list"
   ]
  },
  {
   "cell_type": "code",
   "execution_count": 22,
   "metadata": {},
   "outputs": [
    {
     "data": {
      "text/plain": [
       "(['Milk', 'Honey', 'Milk', 10, True, 'perro'],\n",
       " ['Milk', 'Honey', 'Milk', 10, True])"
      ]
     },
     "execution_count": 22,
     "metadata": {},
     "output_type": "execute_result"
    }
   ],
   "source": [
    "# Copy a List using the range selector\n",
    "\n",
    "my_list_copy = my_list[:]\n",
    "my_list_copy.append(\"perro\")\n",
    "my_list_copy, my_list"
   ]
  },
  {
   "cell_type": "code",
   "execution_count": 23,
   "metadata": {},
   "outputs": [
    {
     "data": {
      "text/plain": [
       "True"
      ]
     },
     "execution_count": 23,
     "metadata": {},
     "output_type": "execute_result"
    }
   ],
   "source": [
    "# All and Any\n",
    "new_list = [True, True, False]\n",
    "any(new_list)"
   ]
  },
  {
   "cell_type": "code",
   "execution_count": 27,
   "metadata": {},
   "outputs": [
    {
     "data": {
      "text/plain": [
       "(False, True)"
      ]
     },
     "execution_count": 27,
     "metadata": {},
     "output_type": "execute_result"
    }
   ],
   "source": [
    "number_list = [1,2,3,-5]\n",
    "all([e>0 for e in number_list]), any([e>0 for e in number_list])"
   ]
  },
  {
   "cell_type": "code",
   "execution_count": 1,
   "metadata": {},
   "outputs": [
    {
     "data": {
      "text/plain": [
       "10"
      ]
     },
     "execution_count": 1,
     "metadata": {},
     "output_type": "execute_result"
    }
   ],
   "source": [
    "x = [1,2,3,4]\n",
    "sum(x)"
   ]
  },
  {
   "cell_type": "markdown",
   "metadata": {},
   "source": [
    "## Set\n",
    "Mutable, unordered list, no duplicates"
   ]
  },
  {
   "cell_type": "code",
   "execution_count": 4,
   "metadata": {},
   "outputs": [
    {
     "data": {
      "text/plain": [
       "{1, 'Honey', 'Milk'}"
      ]
     },
     "execution_count": 4,
     "metadata": {},
     "output_type": "execute_result"
    }
   ],
   "source": [
    "my_set = {'Milk','Honey', 1, True}\n",
    "my_set"
   ]
  },
  {
   "cell_type": "code",
   "execution_count": 20,
   "metadata": {},
   "outputs": [
    {
     "data": {
      "text/plain": [
       "{'Barrigas', 'Hola', 'Micho'}"
      ]
     },
     "execution_count": 20,
     "metadata": {},
     "output_type": "execute_result"
    }
   ],
   "source": [
    "my_set2 = set([\"Hola\", \"Micho\", \"Barrigas\"])\n",
    "my_set2"
   ]
  },
  {
   "cell_type": "markdown",
   "metadata": {},
   "source": [
    "## Tuples\n",
    "Immutable, ordered list, accepts duplicates \n",
    "It is the same as a list except it can't be changed once created"
   ]
  },
  {
   "cell_type": "code",
   "execution_count": 9,
   "metadata": {},
   "outputs": [
    {
     "data": {
      "text/plain": [
       "('Milk', 'Honey', 0.5, True)"
      ]
     },
     "execution_count": 9,
     "metadata": {},
     "output_type": "execute_result"
    }
   ],
   "source": [
    "my_tuple = ('Milk', 'Honey', 0.5, True)\n",
    "my_tuple"
   ]
  },
  {
   "cell_type": "markdown",
   "metadata": {},
   "source": [
    "## Dictionary\n",
    "Mutable, unordered map, no duplicate keys "
   ]
  },
  {
   "cell_type": "code",
   "execution_count": 11,
   "metadata": {},
   "outputs": [
    {
     "data": {
      "text/plain": [
       "{'name': 'Hector', 'age': 49}"
      ]
     },
     "execution_count": 11,
     "metadata": {},
     "output_type": "execute_result"
    }
   ],
   "source": [
    "my_dict = {\n",
    "    \"name\": \"Hector\",\n",
    "    \"age\": 49\n",
    "}\n",
    "my_dict"
   ]
  },
  {
   "cell_type": "code",
   "execution_count": 1,
   "metadata": {},
   "outputs": [
    {
     "data": {
      "text/plain": [
       "([{'name': 'Hector', 'age': 49, 'hobby': 'internet'},\n",
       "  {'name': 'Sol', 'age': 39, 'hobby': 'cooking'},\n",
       "  {'name': 'Paya', 'age': 19, 'hobby': 'reading'},\n",
       "  {'name': 'Diana', 'age': 17, 'hobby': 'running'}],\n",
       " [{'name': 'Gabriel', 'age': 49, 'hobby': 'internet'},\n",
       "  {'name': 'Sol', 'age': 39, 'hobby': 'cooking'},\n",
       "  {'name': 'Paya', 'age': 19, 'hobby': 'reading'},\n",
       "  {'name': 'Diana', 'age': 17, 'hobby': 'running'}])"
      ]
     },
     "execution_count": 1,
     "metadata": {},
     "output_type": "execute_result"
    }
   ],
   "source": [
    "## Deep copy of a dictionary with .copy()\n",
    "\n",
    "persons = [{\n",
    "    \"name\": \"Hector\",\n",
    "    \"age\": 49,\n",
    "    \"hobby\": \"internet\"\n",
    "},\n",
    "{\n",
    "    \"name\": \"Sol\",\n",
    "    \"age\": 39,\n",
    "    \"hobby\": \"cooking\"\n",
    "},\n",
    "{\n",
    "    \"name\": \"Paya\",\n",
    "    \"age\": 19,\n",
    "    \"hobby\": \"reading\"\n",
    "},\n",
    "{\n",
    "    \"name\": \"Diana\",\n",
    "    \"age\": 17,\n",
    "    \"hobby\": \"running\"\n",
    "}\n",
    "]\n",
    "\n",
    "\n",
    "persons_copy = [e.copy() for e in persons]\n",
    "persons_copy[0][\"name\"]=\"Gabriel\"\n",
    "persons, persons_copy\n"
   ]
  },
  {
   "cell_type": "markdown",
   "metadata": {},
   "source": [
    "## List Comprehensions\n",
    "* They are an elegant way of converting an interable into a new iterable\n",
    "* Can be nested\n",
    "* Can be combined with conditions (if, all, any)"
   ]
  },
  {
   "cell_type": "markdown",
   "metadata": {},
   "source": [
    "### List Comprehensions for Lists"
   ]
  },
  {
   "cell_type": "code",
   "execution_count": 13,
   "metadata": {},
   "outputs": [
    {
     "data": {
      "text/plain": [
       "[2, 4, 6, 8]"
      ]
     },
     "execution_count": 13,
     "metadata": {},
     "output_type": "execute_result"
    }
   ],
   "source": [
    "# With For Loop\n",
    "simple_list = [1,2,3,4]\n",
    "double_list = []\n",
    "for element in simple_list:\n",
    "    double_list.append(element*2)\n",
    "double_list"
   ]
  },
  {
   "cell_type": "code",
   "execution_count": 15,
   "metadata": {},
   "outputs": [
    {
     "data": {
      "text/plain": [
       "[2, 4, 6, 8]"
      ]
     },
     "execution_count": 15,
     "metadata": {},
     "output_type": "execute_result"
    }
   ],
   "source": [
    "#With List Comprehension\n",
    "double_list = [e*2 for e in simple_list]\n",
    "double_list"
   ]
  },
  {
   "cell_type": "code",
   "execution_count": 18,
   "metadata": {},
   "outputs": [
    {
     "data": {
      "text/plain": [
       "[4, 8]"
      ]
     },
     "execution_count": 18,
     "metadata": {},
     "output_type": "execute_result"
    }
   ],
   "source": [
    "simple_list = [1,2,3,4]\n",
    "dup_list = [e*2 for e in simple_list if e %2 == 0]\n",
    "dup_list"
   ]
  },
  {
   "cell_type": "markdown",
   "metadata": {},
   "source": [
    "### List Comprehensions for Sets"
   ]
  },
  {
   "cell_type": "code",
   "execution_count": 28,
   "metadata": {},
   "outputs": [
    {
     "data": {
      "text/plain": [
       "[1, 'Anna', 'Max']"
      ]
     },
     "execution_count": 28,
     "metadata": {},
     "output_type": "execute_result"
    }
   ],
   "source": [
    "new_set = {\"Max\", \"Anna\", 1}\n",
    "\n",
    "[e for e in new_set]"
   ]
  },
  {
   "cell_type": "markdown",
   "metadata": {},
   "source": [
    "### List Comprehension for Tuples"
   ]
  },
  {
   "cell_type": "code",
   "execution_count": 29,
   "metadata": {},
   "outputs": [
    {
     "data": {
      "text/plain": [
       "[1, 2, 3, 4]"
      ]
     },
     "execution_count": 29,
     "metadata": {},
     "output_type": "execute_result"
    }
   ],
   "source": [
    "new_tuple = (1,2,3,4)\n",
    "[e for e in new_tuple]"
   ]
  },
  {
   "cell_type": "markdown",
   "metadata": {},
   "source": [
    "### List Comprehension for Dictionaries"
   ]
  },
  {
   "cell_type": "code",
   "execution_count": 30,
   "metadata": {},
   "outputs": [
    {
     "data": {
      "text/plain": [
       "['name', 'age', 'country']"
      ]
     },
     "execution_count": 30,
     "metadata": {},
     "output_type": "execute_result"
    }
   ],
   "source": [
    "new_dict = {\n",
    "    \"name\": \"Hector\",\n",
    "    \"age\": 49,\n",
    "    \"country\": 'Mexico'\n",
    "}\n",
    "\n",
    "[e for e in new_dict] #>>>> It only works for keys\n"
   ]
  },
  {
   "cell_type": "code",
   "execution_count": 31,
   "metadata": {},
   "outputs": [
    {
     "data": {
      "text/plain": [
       "[('name', 'Hector'), ('age', 49), ('country', 'Mexico')]"
      ]
     },
     "execution_count": 31,
     "metadata": {},
     "output_type": "execute_result"
    }
   ],
   "source": [
    "# To make the List Comprehension work for both Key and Value in Dictionaries, \n",
    "# we have to use the items() method\n",
    "\n",
    "[(k, v) for [k, v] in new_dict.items()]"
   ]
  },
  {
   "cell_type": "markdown",
   "metadata": {},
   "source": [
    "# 3.- Special Functions"
   ]
  },
  {
   "cell_type": "markdown",
   "metadata": {},
   "source": [
    "## Map Function\n"
   ]
  },
  {
   "cell_type": "code",
   "execution_count": 13,
   "metadata": {},
   "outputs": [
    {
     "data": {
      "text/plain": [
       "[10, 20, 30, 40]"
      ]
     },
     "execution_count": 13,
     "metadata": {},
     "output_type": "execute_result"
    }
   ],
   "source": [
    "simple_list = [1,2,3,4]\n",
    "\n",
    "def multiply(e):\n",
    "    return e *10\n",
    "\n",
    "list(map(multiply, simple_list))"
   ]
  },
  {
   "cell_type": "markdown",
   "metadata": {},
   "source": [
    "## Lambda Functions"
   ]
  },
  {
   "cell_type": "code",
   "execution_count": 14,
   "metadata": {},
   "outputs": [
    {
     "data": {
      "text/plain": [
       "[1, 2, 3, 4]"
      ]
     },
     "execution_count": 14,
     "metadata": {},
     "output_type": "execute_result"
    }
   ],
   "source": [
    "list(map(lambda e: e*1 ,simple_list))"
   ]
  },
  {
   "cell_type": "markdown",
   "metadata": {},
   "source": [
    "## Reduce Function\n",
    "* We need to import functools library\n",
    "* Apply function of two arguments cumulatively to the items of iterable, from left to right, so as to reduce the iterable to a single value\n",
    "* The left argument, x, is the accumulated value and the right argument, y, is the update value from the iterable"
   ]
  },
  {
   "cell_type": "code",
   "execution_count": 15,
   "metadata": {},
   "outputs": [
    {
     "data": {
      "text/plain": [
       "(120, 16)"
      ]
     },
     "execution_count": 15,
     "metadata": {},
     "output_type": "execute_result"
    }
   ],
   "source": [
    "import functools\n",
    "\n",
    "myList = [1,2,3,4,5]\n",
    "\n",
    "total_multiplication = functools.reduce(lambda x,y: x*y ,myList,1 )\n",
    "total_sum = functools.reduce(lambda x,y: x+y ,myList,1 )\n",
    "\n",
    "total_multiplication, total_sum"
   ]
  },
  {
   "cell_type": "markdown",
   "metadata": {},
   "source": [
    "## Unpacking Function Arguments"
   ]
  },
  {
   "cell_type": "code",
   "execution_count": 18,
   "metadata": {},
   "outputs": [
    {
     "name": "stdout",
     "output_type": "stream",
     "text": [
      "1\n",
      "2\n",
      "3\n",
      "4\n"
     ]
    }
   ],
   "source": [
    "\n",
    "def unlimited_arguments(*args):\n",
    "    for argument in args:\n",
    "        print(argument)\n",
    "\n",
    "unlimited_arguments(1,2,3,4)"
   ]
  },
  {
   "cell_type": "code",
   "execution_count": 21,
   "metadata": {},
   "outputs": [
    {
     "name": "stdout",
     "output_type": "stream",
     "text": [
      "1 2 3 4 5\n"
     ]
    }
   ],
   "source": [
    "a = [1,2,3,4,5]\n",
    "\n",
    "print(*a)"
   ]
  },
  {
   "cell_type": "code",
   "execution_count": 24,
   "metadata": {},
   "outputs": [
    {
     "name": "stdout",
     "output_type": "stream",
     "text": [
      "name Hector\n",
      "Age 49\n"
     ]
    }
   ],
   "source": [
    "def unlimited_kwargs(**kargs):\n",
    "    for k, arg in kargs.items():\n",
    "        print(k,arg)\n",
    "\n",
    "unlimited_kwargs(name=\"Hector\", Age=49)"
   ]
  },
  {
   "cell_type": "markdown",
   "metadata": {},
   "source": [
    "## Handling Errors (try - except - finally)\n",
    "we should handle erorrs I can predict or avoid. The code under \"finally\" will run no matter what\n",
    "\n",
    "* IOError\n",
    "* ValueError\n",
    "* OSError\n",
    "* RuntimeError\n",
    "* SyntaxError\n",
    "* TypeError\n",
    "* MemoryError\n",
    "* IndexError\n"
   ]
  },
  {
   "cell_type": "code",
   "execution_count": null,
   "metadata": {},
   "outputs": [],
   "source": [
    "try:\n",
    "    a= 10\n",
    "except IOError:\n",
    "    print(\"File not found\")\n",
    "finally:\n",
    "    print(\"Cleanup\")"
   ]
  },
  {
   "cell_type": "markdown",
   "metadata": {},
   "source": [
    "# 4.- Working with Files\n",
    "Modes:\n",
    "* r - read access only\n",
    "* w - write access only\n",
    "* r+ - read and write access\n",
    "* x - write access only, fails if file exists\n",
    "* a - append to the end of file if exists\n",
    "* b - open in binary mode\n",
    "* wb - writes binary data\n",
    "* rb - read binary file"
   ]
  },
  {
   "cell_type": "markdown",
   "metadata": {},
   "source": [
    "## Create File"
   ]
  },
  {
   "cell_type": "code",
   "execution_count": 2,
   "metadata": {},
   "outputs": [],
   "source": [
    "f = open('demo.txt',mode='w')\n",
    "f.write('hello from Python!')\n",
    "f.close()"
   ]
  },
  {
   "cell_type": "markdown",
   "metadata": {},
   "source": [
    "## Read File"
   ]
  },
  {
   "cell_type": "code",
   "execution_count": 7,
   "metadata": {},
   "outputs": [
    {
     "data": {
      "text/plain": [
       "'hello from Python!'"
      ]
     },
     "execution_count": 7,
     "metadata": {},
     "output_type": "execute_result"
    }
   ],
   "source": [
    "f = open('demo.txt', 'r')\n",
    "my_content = f.read()\n",
    "f.close()\n",
    "my_content"
   ]
  },
  {
   "cell_type": "markdown",
   "metadata": {},
   "source": [
    "## Append Data to a File"
   ]
  },
  {
   "cell_type": "code",
   "execution_count": 8,
   "metadata": {},
   "outputs": [],
   "source": [
    "f = open('demo.txt', mode='a')\n",
    "f.write('hello guys\\n')\n",
    "f.close()"
   ]
  },
  {
   "cell_type": "code",
   "execution_count": 11,
   "metadata": {},
   "outputs": [],
   "source": [
    "f = open('demo.txt', mode='a')\n",
    "f.write('Add this content\\nin a new line\\n')\n",
    "f.close()"
   ]
  },
  {
   "cell_type": "markdown",
   "metadata": {},
   "source": [
    "## Read Multiple Lines"
   ]
  },
  {
   "cell_type": "code",
   "execution_count": 12,
   "metadata": {},
   "outputs": [
    {
     "data": {
      "text/plain": [
       "['hello from Python!hello guys\\n',\n",
       " 'Add this content\\n',\n",
       " 'in a new line\\n',\n",
       " 'Add this content\\n',\n",
       " 'in a new line\\n',\n",
       " 'Add this content\\n',\n",
       " 'in a new line\\n']"
      ]
     },
     "execution_count": 12,
     "metadata": {},
     "output_type": "execute_result"
    }
   ],
   "source": [
    "# Read al lines at once\n",
    "f = open('demo.txt', mode='r')\n",
    "my_content = f.readlines()\n",
    "f.close()\n",
    "my_content"
   ]
  },
  {
   "cell_type": "code",
   "execution_count": 13,
   "metadata": {},
   "outputs": [
    {
     "name": "stdout",
     "output_type": "stream",
     "text": [
      "hello from Python!hello guys\n",
      "Add this content\n",
      "in a new line\n",
      "Add this content\n",
      "in a new line\n",
      "Add this content\n",
      "in a new line\n"
     ]
    }
   ],
   "source": [
    "for line in my_content:\n",
    "    print(line[:-1])"
   ]
  },
  {
   "cell_type": "code",
   "execution_count": 15,
   "metadata": {},
   "outputs": [
    {
     "name": "stdout",
     "output_type": "stream",
     "text": [
      "hello from Python!hello guys\n",
      "\n",
      "Add this content\n",
      "\n",
      "in a new line\n",
      "\n",
      "Add this content\n",
      "\n",
      "in a new line\n",
      "\n",
      "Add this content\n",
      "\n",
      "in a new line\n",
      "\n"
     ]
    }
   ],
   "source": [
    "# Read one line at a time until there are no lines \n",
    "\n",
    "f = open('demo.txt', mode='r')\n",
    "line = f.readline()\n",
    "while line:\n",
    "    print(line)\n",
    "    line = f.readline()\n",
    "f.close()"
   ]
  },
  {
   "cell_type": "markdown",
   "metadata": {},
   "source": [
    "## Opening file with the \"WITH\" keyword\n",
    "we don't need to close the file"
   ]
  },
  {
   "cell_type": "code",
   "execution_count": 19,
   "metadata": {},
   "outputs": [
    {
     "name": "stdout",
     "output_type": "stream",
     "text": [
      "hello from Python!hello guys\n",
      "\n",
      "Add this content\n",
      "\n",
      "in a new line\n",
      "\n",
      "Add this content\n",
      "\n",
      "in a new line\n",
      "\n",
      "Add this content\n",
      "\n",
      "in a new line\n",
      "\n",
      "Done\n"
     ]
    }
   ],
   "source": [
    "with open('demo.txt', mode='r') as f:\n",
    "    line = f.readline()\n",
    "    while line:\n",
    "        print(line)\n",
    "        line = f.readline()\n",
    "print('Done')\n"
   ]
  },
  {
   "cell_type": "code",
   "execution_count": 2,
   "metadata": {},
   "outputs": [
    {
     "data": {
      "text/plain": [
       "('Hector', 'Hecto')"
      ]
     },
     "execution_count": 2,
     "metadata": {},
     "output_type": "execute_result"
    }
   ],
   "source": [
    "test = 'Hector'\n",
    "test2 = test[:-1]\n",
    "\n",
    "test2\n",
    "\n",
    "test, test2"
   ]
  },
  {
   "cell_type": "markdown",
   "metadata": {},
   "source": [
    "## 5.- Standard Library\n",
    "\n",
    "* <u>hashlib</u> - A Cryptographic hash function is a function that takes in input data and produces a statistically unique output, which is unique to that particular set of data. The hash is a fixed-length byte stream used to ensure the integrity of the data.\n",
    "\n",
    "To keep things simple, a Hash can simply be thought of as a long string (64 characters when using the SHA256 algorithm) that can NOT be reverse engineered. A hash is created based on some input values and the same input values will always yield the exact same Hash. So it's NOT a random value. \n",
    "\n",
    "The length of the Hash does not grow or shrink depending on the input value. So it's more efficient to store a Hash than to manually transform all data to string values.\n",
    "\n",
    "We're not using a Hash because we want to hide the values. We could do this with a Hash but that's not the idea of a Blockchain. All the data should be publicly available, we don't want to hide the Block data - everyone should be able to check and validate the Blockchain.\n",
    "\n",
    "* <u>json</u> - Python has a built-in package called json, which can be used to work with JSON data.\n",
    "* <u>collections</u> - This module implements specialized container datatypes providing alternatives to Python's general purpose built-in containers, dict, list, set, and tuple.\n",
    "* <u>pickle</u> - The pickle module implements binary protocols for serializing and de-serializing a Python object structure. �Pickling� is the process whereby a Python object hierarchy is converted into a byte stream, and unpickling is the inverse operation, whereby a byte stream (from a binary file or bytes-like object) is converted back into an object hierarchy. Pickling (and unpickling) is alternatively known as serialization, marshalling, 1 or flattening; however, to avoid confusion, the terms used here are pickling and unpickling. The pickle module is not secure. Only unpickle data you trust."
   ]
  },
  {
   "cell_type": "markdown",
   "metadata": {},
   "source": [
    "### hashlib"
   ]
  },
  {
   "cell_type": "code",
   "execution_count": 35,
   "metadata": {},
   "outputs": [
    {
     "data": {
      "text/plain": [
       "'c8b6bbac2abb811ae3d0961bdecfb834cbe2f4ac001ebeec87a164b551a438f7'"
      ]
     },
     "execution_count": 35,
     "metadata": {},
     "output_type": "execute_result"
    }
   ],
   "source": [
    "import hashlib\n",
    "import json \n",
    "\n",
    "\n",
    "myCode = {\n",
    "    \"name\": \"Hector\",\n",
    "    \"age\": 49\n",
    "}\n",
    "\n",
    "hashlib.sha256(json.dumps(myCode).encode()).hexdigest()\n"
   ]
  },
  {
   "cell_type": "markdown",
   "metadata": {},
   "source": [
    "### collections (OrderDict)\n",
    "It is straightforward to create an ordered dictionary variant that remembers the order the keys were last inserted."
   ]
  },
  {
   "cell_type": "code",
   "execution_count": 36,
   "metadata": {},
   "outputs": [
    {
     "data": {
      "text/plain": [
       "OrderedDict([('name', 'Hector'), ('Age', 49)])"
      ]
     },
     "execution_count": 36,
     "metadata": {},
     "output_type": "execute_result"
    }
   ],
   "source": [
    "# An alternate way of setting up a dictionary in way that the order won't change\n",
    "from collections import OrderedDict\n",
    "\n",
    "newDict = OrderedDict([('name', 'Hector'), ('Age', 49)])\n",
    "newDict"
   ]
  },
  {
   "cell_type": "markdown",
   "metadata": {},
   "source": [
    "### json"
   ]
  },
  {
   "cell_type": "markdown",
   "metadata": {},
   "source": [
    "#### json.dumps()\n",
    "\n",
    "json.dumps() function will convert a subset of Python objects into a json string."
   ]
  },
  {
   "cell_type": "code",
   "execution_count": 37,
   "metadata": {},
   "outputs": [
    {
     "data": {
      "text/plain": [
       "'{\"name\": \"Hector\", \"age\": 49}'"
      ]
     },
     "execution_count": 37,
     "metadata": {},
     "output_type": "execute_result"
    }
   ],
   "source": [
    "myCode = {\n",
    "    \"name\": \"Hector\",\n",
    "    \"age\": 49\n",
    "}\n",
    "\n",
    "json_string = json.dumps(myCode)\n",
    "json_string"
   ]
  },
  {
   "cell_type": "markdown",
   "metadata": {},
   "source": [
    "#### json.loads()\n",
    "\n",
    "The json.loads() method can be used to parse a valid JSON string and convert it into a Python Dictionary"
   ]
  },
  {
   "cell_type": "code",
   "execution_count": 38,
   "metadata": {},
   "outputs": [
    {
     "data": {
      "text/plain": [
       "{'name': 'Hector', 'age': 49}"
      ]
     },
     "execution_count": 38,
     "metadata": {},
     "output_type": "execute_result"
    }
   ],
   "source": [
    "python_object_dictionary = json.loads(json_string)\n",
    "python_object_dictionary"
   ]
  },
  {
   "cell_type": "markdown",
   "metadata": {},
   "source": [
    "### pickle\n"
   ]
  },
  {
   "cell_type": "markdown",
   "metadata": {},
   "source": [
    "#### pickle.dumps()\n",
    "\n",
    "Return the pickled representation of the object obj as a bytes object, instead of writing it to a file.\n"
   ]
  },
  {
   "cell_type": "code",
   "execution_count": 39,
   "metadata": {},
   "outputs": [
    {
     "data": {
      "text/plain": [
       "b'\\x80\\x04\\x95\\x1d\\x00\\x00\\x00\\x00\\x00\\x00\\x00}\\x94(\\x8c\\x04name\\x94\\x8c\\x06Hector\\x94\\x8c\\x03age\\x94K1u.'"
      ]
     },
     "execution_count": 39,
     "metadata": {},
     "output_type": "execute_result"
    }
   ],
   "source": [
    "import pickle \n",
    "\n",
    "myData = {\n",
    "    \"name\": 'Hector',\n",
    "    \"age\": 49\n",
    "}\n",
    "\n",
    "testPickle = pickle.dumps(myData)\n",
    "testPickle"
   ]
  },
  {
   "cell_type": "markdown",
   "metadata": {},
   "source": [
    "#### pickle.loads()\n",
    "Return the reconstituted object hierarchy of the pickled representation data of an object. data must be a bytes-like object.\n"
   ]
  },
  {
   "cell_type": "code",
   "execution_count": 40,
   "metadata": {},
   "outputs": [
    {
     "data": {
      "text/plain": [
       "{'name': 'Hector', 'age': 49}"
      ]
     },
     "execution_count": 40,
     "metadata": {},
     "output_type": "execute_result"
    }
   ],
   "source": [
    "unpickled_data = pickle.loads(testPickle)\n",
    "unpickled_data"
   ]
  },
  {
   "cell_type": "markdown",
   "metadata": {},
   "source": [
    "# 6.- Object Oriented Programming"
   ]
  },
  {
   "cell_type": "markdown",
   "metadata": {},
   "source": [
    "## Classes\n",
    "\n",
    "It's a blueprint of an object, and we can create objects (instances) based on the blueprint (class)"
   ]
  },
  {
   "cell_type": "code",
   "execution_count": 55,
   "metadata": {},
   "outputs": [],
   "source": [
    "class Vehicle:\n",
    "        #constructor\n",
    "    def __init__(self, starting_top_speed=100):\n",
    "        self.top_speed = starting_top_speed\n",
    "        self.__warnings = [] #>>>> private attribute, can be accessed from within the Class but not from ouside\n",
    "\n",
    "    #The __repr__ method returns the string representation of an object.    \n",
    "    def __repr__(self):\n",
    "        print('Printing')\n",
    "        return 'Top Speed: {self.top_speed}, Warnings: {self.warnings}'\n",
    "\n",
    "    def get_warnings(self):\n",
    "        return self.__warnings\n",
    "\n",
    "    def add_warning(self, warning_text):\n",
    "        if len(warning_text)> 0:\n",
    "            self.__warnings.append(warning_text) #>>>> private attribute, can be accessed from within the Class but not from ouside\n",
    "\n",
    "    def drive(self):\n",
    "        print(f'I am driving, but certainly not faster than {self.top_speed}' )"
   ]
  },
  {
   "cell_type": "code",
   "execution_count": 56,
   "metadata": {},
   "outputs": [],
   "source": [
    "# Creating a Class\n",
    "class Car(Vehicle):  #>>> Inherits from Vehicle\n",
    "\n",
    "    def brag(self):\n",
    "        print(\"Look how cool my car is!\")\n",
    "\n"
   ]
  },
  {
   "cell_type": "code",
   "execution_count": 57,
   "metadata": {},
   "outputs": [],
   "source": [
    "class Bus(Vehicle): #>>>>> Inherits from Vehicle\n",
    "    def __init__(self, starting_top_speed=100):\n",
    "          super().__init__(starting_top_speed) #>>>>> Gets access to the parent constructor\n",
    "          self.passengers = []\n",
    "\n",
    "    def add_group (self, passengers):\n",
    "        self.passengers.extend(passengers)"
   ]
  },
  {
   "cell_type": "markdown",
   "metadata": {},
   "source": [
    "## Instances"
   ]
  },
  {
   "cell_type": "code",
   "execution_count": 58,
   "metadata": {},
   "outputs": [
    {
     "name": "stdout",
     "output_type": "stream",
     "text": [
      "I am driving, but certainly not faster than 100\n"
     ]
    },
    {
     "data": {
      "text/plain": [
       "(None, 100, ['warning 1'])"
      ]
     },
     "execution_count": 58,
     "metadata": {},
     "output_type": "execute_result"
    }
   ],
   "source": [
    "# Creating an Instance\n",
    "car1 = Car()\n",
    "car1.add_warning(\"warning 1\")\n",
    "car1.drive(), car1.top_speed, car1.get_warnings()"
   ]
  },
  {
   "cell_type": "code",
   "execution_count": 59,
   "metadata": {},
   "outputs": [
    {
     "name": "stdout",
     "output_type": "stream",
     "text": [
      "{'top_speed': 100, '_Vehicle__warnings': ['warning 1']}\n"
     ]
    }
   ],
   "source": [
    "# Prints the whole instance as a dictionary\n",
    "print(car1.__dict__)"
   ]
  },
  {
   "cell_type": "code",
   "execution_count": 60,
   "metadata": {},
   "outputs": [
    {
     "name": "stdout",
     "output_type": "stream",
     "text": [
      "I am driving, but certainly not faster than 200\n"
     ]
    },
    {
     "data": {
      "text/plain": [
       "(None, 200, ['warning 2'])"
      ]
     },
     "execution_count": 60,
     "metadata": {},
     "output_type": "execute_result"
    }
   ],
   "source": [
    "#Creating a second instance\n",
    "car2 = Car(200)\n",
    "car2.add_warning(\"warning 2\")\n",
    "car2.drive(), car2.top_speed, car2.get_warnings()"
   ]
  },
  {
   "cell_type": "code",
   "execution_count": 61,
   "metadata": {},
   "outputs": [
    {
     "name": "stdout",
     "output_type": "stream",
     "text": [
      "I am driving, but certainly not faster than 150\n",
      "['Max', 'Manuel', 'Anna'] ['Test Bus Warning'] 150\n"
     ]
    }
   ],
   "source": [
    "bus1 = Bus(150)\n",
    "bus1.add_group([\"Max\", \"Manuel\", \"Anna\"])\n",
    "bus1.add_warning(\"Test Bus Warning\")\n",
    "bus1.drive()\n",
    "print(bus1.passengers, bus1.get_warnings(), bus1.top_speed)"
   ]
  },
  {
   "cell_type": "markdown",
   "metadata": {},
   "source": [
    "## Instance vs Class vs Static\n",
    "\n",
    "Decorators dynamically alter functions\n",
    "\n",
    "* @classmethod\n",
    "* @staticmethod"
   ]
  },
  {
   "cell_type": "markdown",
   "metadata": {},
   "source": [
    "### Instance\n"
   ]
  },
  {
   "cell_type": "code",
   "execution_count": 62,
   "metadata": {},
   "outputs": [
    {
     "name": "stdout",
     "output_type": "stream",
     "text": [
      "10\n"
     ]
    }
   ],
   "source": [
    "class MyMath:\n",
    "    result = 5\n",
    "\n",
    "    def add(self, a):\n",
    "        print(self.result + a)\n",
    "\n",
    "my_math = MyMath()\n",
    "my_math.add(5)"
   ]
  },
  {
   "cell_type": "markdown",
   "metadata": {},
   "source": [
    "### Class"
   ]
  },
  {
   "cell_type": "code",
   "execution_count": 63,
   "metadata": {},
   "outputs": [
    {
     "name": "stdout",
     "output_type": "stream",
     "text": [
      "10\n"
     ]
    }
   ],
   "source": [
    "# I call the method on the Class directly and I get access to the Class attributes\n",
    "\n",
    "class MyMath:\n",
    "    result = 5\n",
    "\n",
    "    @classmethod\n",
    "    def add(cls, a):\n",
    "        print(cls.result + a)\n",
    "\n",
    "MyMath.add(5)"
   ]
  },
  {
   "cell_type": "markdown",
   "metadata": {},
   "source": [
    "### Static"
   ]
  },
  {
   "cell_type": "code",
   "execution_count": 64,
   "metadata": {},
   "outputs": [
    {
     "name": "stdout",
     "output_type": "stream",
     "text": [
      "5\n"
     ]
    }
   ],
   "source": [
    "# A Static class detaches the function from the Class result \n",
    "# variable can't be accessed from inside a static method\n",
    "\n",
    "class MyMath:\n",
    "    result = 5\n",
    "    \n",
    "    @staticmethod\n",
    "    def add(a):\n",
    "        print(a)\n",
    "\n",
    "MyMath.add(5)"
   ]
  },
  {
   "cell_type": "markdown",
   "metadata": {},
   "source": [
    "## Attributes vs Properties\n",
    "\n"
   ]
  },
  {
   "cell_type": "markdown",
   "metadata": {},
   "source": [
    "### Attributes\n",
    "\n"
   ]
  },
  {
   "cell_type": "code",
   "execution_count": 65,
   "metadata": {},
   "outputs": [],
   "source": [
    "class myMath:\n",
    "    result = 5 #>>>>>> Attribute built Directly in the class\n",
    "\n",
    "    def __init__(self) -> None:\n",
    "        self.name = 'Hector' #>>>>>>>>>>> Attribute built in the constructor\n",
    "\n",
    " "
   ]
  },
  {
   "cell_type": "markdown",
   "metadata": {},
   "source": [
    "### Properties\n",
    "Getters and Setters allow us to control access for both reading and writing"
   ]
  },
  {
   "cell_type": "code",
   "execution_count": 66,
   "metadata": {},
   "outputs": [],
   "source": [
    "class myMath:\n",
    "    def __init__(self) -> None:\n",
    "        self.name = 'Hector'\n",
    "    \n",
    "    # Getter\n",
    "    @property\n",
    "    def name(self):\n",
    "        return self.__name\n",
    "    \n",
    "    # Setter\n",
    "    @name.setter\n",
    "    def name(self, val):\n",
    "        self.__name = val \n"
   ]
  },
  {
   "cell_type": "markdown",
   "metadata": {},
   "source": [
    "## The Dunder Method\n",
    "Python __repr__() is one of the magic methods that returns a printable representation of an object in Python that can be customized or predefined, i.e. we can also create the string representation of the object according to our needs."
   ]
  },
  {
   "cell_type": "code",
   "execution_count": 67,
   "metadata": {},
   "outputs": [],
   "source": [
    "class Food:\n",
    "    def __init__(self, name, kind) -> None:\n",
    "        self.name = name \n",
    "        self.kind = kind \n",
    "\n",
    "    def __repr__(self) -> str:\n",
    "        return str(self.__dict__)\n",
    "        \n",
    "\n",
    "    def describe(self):\n",
    "        print(f\"This is my food {self.name} which is of the kind of: {self.kind}\")\n",
    "    "
   ]
  },
  {
   "cell_type": "markdown",
   "metadata": {},
   "source": [
    "# 7.- Modules\n",
    "\n",
    "1. Create a folder\n",
    "2. Create file \\__init__ with nothing in side\n",
    "3. At the top of each file and inside each function, add \"Docstrings\" with a pair of \"\"\""
   ]
  },
  {
   "cell_type": "code",
   "execution_count": 1,
   "metadata": {},
   "outputs": [
    {
     "data": {
      "text/plain": [
       "<function list.__dir__()>"
      ]
     },
     "execution_count": 1,
     "metadata": {},
     "output_type": "execute_result"
    }
   ],
   "source": [
    "a = [1,2,3,4]\n",
    "a.__dir__"
   ]
  },
  {
   "cell_type": "markdown",
   "metadata": {},
   "source": [
    "# 8.- HTTP Requests\n",
    "* POST: Add Data to the server\n",
    "* GET: To retrieve data\n",
    "* DELETE: Remove data\n",
    "* PATCH: Updating data\n",
    "* PUT: Replace data"
   ]
  },
  {
   "cell_type": "markdown",
   "metadata": {},
   "source": [
    "# 9.- Decorator Functions\n",
    "* It executes a function, passing as a parameter, the function that gets 'decorated' and that gets called first"
   ]
  },
  {
   "cell_type": "code",
   "execution_count": null,
   "metadata": {},
   "outputs": [],
   "source": [
    "# Decorator Function Example 1\n",
    "#1.- This is the 'Decorator Function'. It takes a function as a parameter and it returns the wrapper function\n",
    "def f1(func):\n",
    "    def wrapper(*args, **kwargs):\n",
    "        print('Started')\n",
    "        func(*args, **kwargs)\n",
    "        print('Ended')\n",
    "    return wrapper\n",
    "\n",
    "#2.- This is the function that gets decorated. It executes function 'f1()' and passes function 'f()' as a parameter through the decorator\n",
    "@f1         \n",
    "def f(a, b):\n",
    "    print(a, b)\n",
    "\n",
    "#3.- Every time we exceute function 'f()', it executes first the decorator function, but passing function 'f()' as a parameter\n",
    "f('Micho', 'Candy')"
   ]
  },
  {
   "cell_type": "code",
   "execution_count": null,
   "metadata": {},
   "outputs": [],
   "source": [
    "# Decorator Function Example 2\n",
    "\n",
    "import time\n",
    "\n",
    "\n",
    "def timer(func):\n",
    "    def wrapper():\n",
    "        before = time.time()\n",
    "        func()\n",
    "        print('Function took: ', time.time() - before, 'seconds')\n",
    "    return wrapper\n",
    "\n",
    "@timer \n",
    "def run():\n",
    "    time.sleep(2)\n",
    "\n",
    "run()"
   ]
  }
 ],
 "metadata": {
  "kernelspec": {
   "display_name": "base",
   "language": "python",
   "name": "python3"
  },
  "language_info": {
   "codemirror_mode": {
    "name": "ipython",
    "version": 3
   },
   "file_extension": ".py",
   "mimetype": "text/x-python",
   "name": "python",
   "nbconvert_exporter": "python",
   "pygments_lexer": "ipython3",
   "version": "3.10.9"
  }
 },
 "nbformat": 4,
 "nbformat_minor": 2
}
